{
 "cells": [
  {
   "cell_type": "code",
   "execution_count": 129,
   "metadata": {
    "collapsed": true,
    "ExecuteTime": {
     "start_time": "2023-07-02T22:07:34.299340Z",
     "end_time": "2023-07-02T22:07:34.323993Z"
    }
   },
   "outputs": [],
   "source": [
    "import matplotlib.pyplot as plt\n",
    "import pandas as pd\n",
    "import numpy as np\n",
    "import cvxopt\n",
    "import yfinance as yf\n",
    "import pypfopt\n",
    "from pypfopt import risk_models\n",
    "from pypfopt import plotting\n",
    "from pypfopt import expected_returns\n",
    "from pypfopt import EfficientFrontier\n",
    "from pypfopt import DiscreteAllocation\n",
    "from pypfopt import objective_functions\n",
    "from sklearn.ensemble import RandomForestRegressor\n",
    "from sklearn.ensemble import RandomForestClassifier\n",
    "from sklearn.tree import DecisionTreeRegressor, DecisionTreeClassifier\n",
    "from sklearn.model_selection import train_test_split\n",
    "from pypfopt.discrete_allocation import DiscreteAllocation, get_latest_prices\n",
    "from sklearn.svm import SVR\n",
    "from sklearn.preprocessing import MinMaxScaler\n",
    "import datetime\n",
    "import talib"
   ]
  },
  {
   "cell_type": "code",
   "execution_count": 130,
   "outputs": [
    {
     "name": "stderr",
     "output_type": "stream",
     "text": [
      "ERROR -1 502 Couldn't connect to TWS. Confirm that \"Enable ActiveX and Socket EClients\" \n",
      "is enabled and connection port is the same as \"Socket Port\" on the \n",
      "TWS \"Edit->Global Configuration...->API->Settings\" menu. Live Trading ports: \n",
      "TWS: 7496; IB Gateway: 4001. Simulated Trading ports for new installations \n",
      "of version 954.1 or newer:  TWS: 7497; IB Gateway: 4002\n"
     ]
    }
   ],
   "source": [
    "# TWS API implementation\n",
    "from ibapi.client import EClient\n",
    "from ibapi.wrapper import EWrapper\n",
    "from ibapi.common import TickerId\n",
    "from threading import Event\n",
    "from ibapi.contract import Contract\n",
    "from ibapi.order import Order\n",
    "\n",
    "class PositionHandler(EWrapper, EClient):\n",
    "    def __init__(self):\n",
    "        EClient.__init__(self, self)\n",
    "        self.positions = {}\n",
    "        self.finished = Event()\n",
    "\n",
    "    def position(self, account: str, contract, pos: float, avgCost: float):\n",
    "        self.positions[contract.symbol] = (pos, avgCost)\n",
    "\n",
    "    def positionEnd(self):\n",
    "        print(\"End of positions\")\n",
    "        self.finished.set()\n",
    "\n",
    "# Create the client and connect to TWS\n",
    "client = PositionHandler()\n",
    "client.connect(\"localhost\", 7497, clientId=0)\n",
    "\n",
    "def get_stock_value(symbol):\n",
    "    client = PositionHandler()\n",
    "    client.connect(\"localhost\", 7497, clientId=0)\n",
    "\n",
    "    # Request positions\n",
    "    client.reqPositions()\n",
    "\n",
    "    # Wait until we have all positions\n",
    "    client.finished.wait()\n",
    "\n",
    "    # Now we can disconnect\n",
    "    client.disconnect()\n",
    "\n",
    "    # Get the position and average cost of the specified symbol\n",
    "    pos, avgCost = client.positions.get(symbol, (0, 0))\n",
    "\n",
    "    return pos * avgCost\n",
    "\n",
    "def make_contract(symbol, sec_type=\"STK\", exch=\"SMART\", prim_exch=\"ISLAND\", curr=\"USD\"):\n",
    "    contract = Contract()\n",
    "    contract.symbol = symbol\n",
    "    contract.secType = sec_type\n",
    "    contract.exchange = exch\n",
    "    contract.primaryExchange = prim_exch\n",
    "    contract.currency = curr\n",
    "    return contract\n",
    "\n",
    "def make_order(action, quantity, price = None):\n",
    "    order = Order()\n",
    "    order.action = action\n",
    "    order.totalQuantity = quantity\n",
    "    order.orderType = \"MKT\" if price is None else \"LMT\"\n",
    "    order.lmtPrice = price\n",
    "    return order"
   ],
   "metadata": {
    "collapsed": false,
    "ExecuteTime": {
     "start_time": "2023-07-02T22:07:34.323993Z",
     "end_time": "2023-07-02T22:07:34.326013Z"
    }
   }
  },
  {
   "cell_type": "code",
   "execution_count": 131,
   "outputs": [],
   "source": [
    "def get_current_price(stock):\n",
    "    ticker = yf.Ticker(stock)\n",
    "    return ticker.info['currentPrice']\n",
    "\n",
    "def getStockPrice(s, lastYearMore = False):\n",
    "    end_date = pd.Timestamp.now()\n",
    "    start_date = end_date - pd.DateOffset(days=42)\n",
    "    raw = yf.download(s, start=start_date, end=end_date)\n",
    "    p = raw[\"Adj Close\"].dropna(how=\"all\")\n",
    "    # Add cash into the dataset\n",
    "\n",
    "    # Copy last year data to achieve 1.5x weight\n",
    "    # Add weights\n",
    "    if lastYearMore:\n",
    "        recent_year = end_date - pd.DateOffset(years=1)\n",
    "        recent_data = p[p.index >= recent_year]\n",
    "        weighted_prices = pd.concat([p, recent_data, recent_data * 0.5])\n",
    "        return weighted_prices.dropna()\n",
    "    return p.dropna()\n",
    "\n",
    "def predict_trading(prices, shares, model=\"RF\"):\n",
    "    for s in prices.columns:\n",
    "        bb_upper, bb_middle, bb_lower = talib.BBANDS(prices[s], timeperiod=20)\n",
    "        bb_percentage = (prices[s] - bb_lower) / (bb_upper - bb_lower)\n",
    "        mean = bb_percentage.mean()\n",
    "        bb_percentage = bb_percentage.fillna(mean)\n",
    "        X = bb_percentage.values[:-1].reshape(-1,1)\n",
    "        y = np.where(prices[s].values[1:] > bb_upper[:-1], -1, 1)\n",
    "        X_train, X_test, y_train, y_test = train_test_split(X, y, test_size=0.2, random_state=42)\n",
    "\n",
    "        if model == 'RF':\n",
    "            estimator  = RandomForestClassifier(max_depth=2, random_state=0)\n",
    "        elif model == 'SVM':\n",
    "            estimator = SVR(kernel='rbf')\n",
    "        elif model == 'DT':\n",
    "            estimator = DecisionTreeClassifier(max_depth=2, random_state=0)\n",
    "        else:\n",
    "            raise ValueError(f\"Unknown model: {model}\")\n",
    "\n",
    "        estimator.fit(X_train, y_train)\n",
    "        y_pred = estimator.predict(X_test)\n",
    "\n",
    "        # For each stock, fetch its current hold stock value as capital by TWS API\n",
    "        # capital = get_stock_value(s)\n",
    "        # If cannot use TWS API, comment above and use below\n",
    "        capital = shares[s] * (get_current_price(s))\n",
    "        position = 0\n",
    "\n",
    "        for i in range(len(y_pred)):\n",
    "            if y_pred[i] == 1 and position != 1:  # Buy signal\n",
    "                position = 1\n",
    "                # Fetch current price\n",
    "                current_price = get_current_price(s)\n",
    "                num_shares_to_buy = (0.05 * capital) // current_price\n",
    "                print(f\"Buy {num_shares_to_buy} shares of {s}\")\n",
    "                shares[s] += num_shares_to_buy\n",
    "                # Use TWS API to do position\n",
    "                # COMMENT BELOW IF JUST WANT TO SEE PERFORMANCE\n",
    "                #contract = make_contract(s)\n",
    "                #order = make_order(\"BUY\", num_shares_to_buy)\n",
    "                #client.placeOrder(client.nextOrderId(), contract, order)\n",
    "\n",
    "            elif y_pred[i] == -1 and position != -1:  # Sell signal\n",
    "                position = -1\n",
    "                current_price = get_current_price(s)\n",
    "                num_shares_to_sell = (0.05 * capital) // current_price\n",
    "                print(f\"Sell {num_shares_to_sell} shares of {s}\")\n",
    "                shares[s] -= num_shares_to_sell\n",
    "                # Use TWS API to do position\n",
    "                # COMMENT BELOW IF JUST WANT TO SEE PERFORMANCE\n",
    "                #contract = make_contract(s)\n",
    "                #order = make_order(\"SELL\", num_shares_to_sell)\n",
    "                #client.placeOrder(client.nextOrderId(), contract, order)\n",
    "\n",
    "            elif y_pred[i] == 0 and position != 0:  # Exit position\n",
    "                position = 0\n",
    "                print(\"No change \" + s)\n",
    "\n",
    "        final_capital = capital\n",
    "        print(\"Final Capital: \", final_capital)\n",
    "    return shares"
   ],
   "metadata": {
    "collapsed": false,
    "ExecuteTime": {
     "start_time": "2023-07-02T22:07:34.323993Z",
     "end_time": "2023-07-02T22:07:34.415255Z"
    }
   }
  },
  {
   "cell_type": "code",
   "execution_count": 132,
   "outputs": [
    {
     "name": "stdout",
     "output_type": "stream",
     "text": [
      "[*********************100%***********************]  17 of 17 completed\n",
      "[*********************100%***********************]  1 of 1 completed\n"
     ]
    }
   ],
   "source": [
    "stock_shares = {\n",
    "    'AAPL': 268,\n",
    "    'AMZN': 389,\n",
    "    'BSX': 939,\n",
    "    'CI': 183,\n",
    "    'COST': 95,\n",
    "    'CVX': 577,\n",
    "    'GOOGL': 425,\n",
    "    'GS': 258,\n",
    "    'HSBC': 1309,\n",
    "    'LMT': 154,\n",
    "    'MCD': 185,\n",
    "    'MRK': 449,\n",
    "    'MSFT': 177,\n",
    "    'PFE': 1931,\n",
    "    'SEDG': 138,\n",
    "    'TSLA': 203,\n",
    "    'NVDA': 138\n",
    "}\n",
    "stocks = ['PFE', 'COST', 'AMZN', 'GOOGL', 'MRK', 'TSLA', 'LMT', 'BSX', 'HSBC', 'MSFT', 'SEDG', 'CVX', 'MCD', 'AAPL', 'GS', 'CI', 'NVDA']\n",
    "stock_prices = getStockPrice(stocks, lastYearMore=False)\n",
    "index = ['^SPX']\n",
    "index_price = getStockPrice(index)"
   ],
   "metadata": {
    "collapsed": false,
    "ExecuteTime": {
     "start_time": "2023-07-02T22:07:34.399983Z",
     "end_time": "2023-07-02T22:07:35.195979Z"
    }
   }
  },
  {
   "cell_type": "code",
   "execution_count": 133,
   "outputs": [
    {
     "name": "stdout",
     "output_type": "stream",
     "text": [
      "Buy 13.0 shares of AAPL\n",
      "Final Capital:  51983.96\n",
      "Buy 19.0 shares of AMZN\n",
      "Final Capital:  50710.04000000001\n",
      "Buy 46.0 shares of BSX\n",
      "Final Capital:  50790.51\n",
      "Buy 9.0 shares of CI\n",
      "Final Capital:  51349.8\n",
      "Buy 4.0 shares of COST\n",
      "Final Capital:  51146.1\n",
      "Buy 28.0 shares of CVX\n",
      "Final Capital:  90790.95\n",
      "Buy 21.0 shares of GOOGL\n",
      "Final Capital:  50872.5\n",
      "Buy 12.0 shares of GS\n",
      "Final Capital:  83215.32\n",
      "Buy 65.0 shares of HSBC\n",
      "Final Capital:  51862.579999999994\n",
      "Buy 7.0 shares of LMT\n",
      "Final Capital:  70898.52\n",
      "Buy 9.0 shares of MCD\n",
      "Sell 9.0 shares of MCD\n",
      "Buy 9.0 shares of MCD\n",
      "Final Capital:  55205.850000000006\n",
      "Buy 22.0 shares of MRK\n",
      "Final Capital:  51810.11\n",
      "Buy 8.0 shares of MSFT\n",
      "Final Capital:  60275.58\n",
      "Buy 6.0 shares of NVDA\n",
      "Final Capital:  58376.759999999995\n",
      "Buy 96.0 shares of PFE\n",
      "Final Capital:  70829.08\n",
      "Buy 6.0 shares of SEDG\n",
      "Final Capital:  37128.9\n",
      "Buy 10.0 shares of TSLA\n",
      "Final Capital:  53139.31\n"
     ]
    }
   ],
   "source": [
    "stock_shares = predict_trading(stock_prices, stock_shares)"
   ],
   "metadata": {
    "collapsed": false,
    "ExecuteTime": {
     "start_time": "2023-07-02T22:07:35.195979Z",
     "end_time": "2023-07-02T22:07:43.292413Z"
    }
   }
  },
  {
   "cell_type": "code",
   "execution_count": 134,
   "outputs": [
    {
     "data": {
      "text/plain": "{'AAPL': 281.0,\n 'AMZN': 408.0,\n 'BSX': 985.0,\n 'CI': 192.0,\n 'COST': 99.0,\n 'CVX': 605.0,\n 'GOOGL': 446.0,\n 'GS': 270.0,\n 'HSBC': 1374.0,\n 'LMT': 161.0,\n 'MCD': 194.0,\n 'MRK': 471.0,\n 'MSFT': 185.0,\n 'PFE': 2027.0,\n 'SEDG': 144.0,\n 'TSLA': 213.0,\n 'NVDA': 144.0}"
     },
     "execution_count": 134,
     "metadata": {},
     "output_type": "execute_result"
    }
   ],
   "source": [
    "stock_shares"
   ],
   "metadata": {
    "collapsed": false,
    "ExecuteTime": {
     "start_time": "2023-07-02T22:07:43.292413Z",
     "end_time": "2023-07-02T22:07:43.292413Z"
    }
   }
  },
  {
   "cell_type": "code",
   "execution_count": 134,
   "outputs": [],
   "source": [],
   "metadata": {
    "collapsed": false,
    "ExecuteTime": {
     "start_time": "2023-07-02T22:07:43.292413Z",
     "end_time": "2023-07-02T22:07:43.292413Z"
    }
   }
  }
 ],
 "metadata": {
  "kernelspec": {
   "display_name": "Python 3",
   "language": "python",
   "name": "python3"
  },
  "language_info": {
   "codemirror_mode": {
    "name": "ipython",
    "version": 2
   },
   "file_extension": ".py",
   "mimetype": "text/x-python",
   "name": "python",
   "nbconvert_exporter": "python",
   "pygments_lexer": "ipython2",
   "version": "2.7.6"
  }
 },
 "nbformat": 4,
 "nbformat_minor": 0
}
