{
 "cells": [
  {
   "cell_type": "code",
   "execution_count": 355,
   "metadata": {
    "collapsed": true,
    "ExecuteTime": {
     "start_time": "2023-07-02T22:13:54.908087Z",
     "end_time": "2023-07-02T22:13:54.909087Z"
    }
   },
   "outputs": [],
   "source": [
    "import matplotlib.pyplot as plt\n",
    "import pandas as pd\n",
    "import numpy as np\n",
    "import yfinance as yf\n",
    "import cvxopt\n",
    "import pypfopt\n",
    "from pypfopt import risk_models\n",
    "from pypfopt import plotting\n",
    "from pypfopt import expected_returns\n",
    "from pypfopt import EfficientFrontier\n",
    "from pypfopt import DiscreteAllocation\n",
    "from pypfopt import objective_functions\n",
    "from pypfopt import black_litterman, risk_models\n",
    "from pypfopt import BlackLittermanModel, plotting\n",
    "from sklearn.ensemble import RandomForestRegressor\n",
    "from sklearn.tree import DecisionTreeRegressor\n",
    "from sklearn.model_selection import train_test_split\n",
    "from pypfopt.discrete_allocation import get_latest_prices\n",
    "from sklearn.svm import SVR\n",
    "from sklearn.preprocessing import MinMaxScaler\n",
    "import datetime"
   ]
  },
  {
   "cell_type": "code",
   "execution_count": 356,
   "outputs": [],
   "source": [
    "def getStockPrice(s, lastYearMore = False):\n",
    "    end_date = pd.Timestamp.now()\n",
    "    start_date = end_date - pd.DateOffset(years=5)\n",
    "    raw = yf.download(s, start=start_date, end=end_date)\n",
    "    p = raw[\"Adj Close\"].dropna(how=\"all\")\n",
    "    # Add cash into the dataset\n",
    "\n",
    "    # Copy last year data to achieve 1.5x weight\n",
    "    # Add weights\n",
    "    if lastYearMore:\n",
    "        recent_year = end_date - pd.DateOffset(years=1)\n",
    "        recent_data = p[p.index >= recent_year]\n",
    "        weighted_prices = pd.concat([p, recent_data, recent_data * 0.5])\n",
    "        return weighted_prices.dropna()\n",
    "\n",
    "    return p.dropna()\n",
    "\n",
    "def predict(prices, model=\"RF\"):\n",
    "    if isinstance(prices, pd.Series):\n",
    "        prices = prices.to_frame()\n",
    "    # For each stock, create a Random Forest model and predict the price for next 20 days\n",
    "    predicted_prices = pd.DataFrame(index=range(len(prices.index) + 20))\n",
    "    predicted_changes = pd.Series(index=prices.columns)\n",
    "    confidence_values = pd.Series(index=prices.columns)\n",
    "    for s in prices.columns:\n",
    "        X = np.array(range(len(prices[s]))).reshape(-1, 1)\n",
    "        y = prices[s].values\n",
    "        X_train, X_test, y_train, y_test = train_test_split(X, y, test_size=0.2, random_state=42)\n",
    "\n",
    "        if model == 'RF':\n",
    "            estimator  = RandomForestRegressor(max_depth=2, random_state=0)\n",
    "        elif model == 'SVM':\n",
    "            estimator = SVR(kernel='rbf')\n",
    "        elif model == 'DT':\n",
    "            estimator = DecisionTreeRegressor(max_depth=2, random_state=0)\n",
    "        else:\n",
    "            raise ValueError(f\"Unknown model: {model}\")\n",
    "\n",
    "        estimator.fit(X_train, y_train)\n",
    "\n",
    "        # Predict for next 20 days\n",
    "        future = np.array(range(len(prices[s]), len(prices[s]) + 20)).reshape(-1, 1)\n",
    "        for day in future:\n",
    "            X_day = day.reshape(1, -1)\n",
    "            predicted = estimator.predict(X_day)\n",
    "            y = np.concatenate((y, predicted))\n",
    "            X = np.concatenate((X, X_day))\n",
    "            estimator.fit(X, y)  # retrain the model with the predicted value\n",
    "        predicted_prices[s] = y\n",
    "        change = (y[-1] - y[-21]) / y[-21]\n",
    "        predicted_changes[s] = change\n",
    "    for s in prices.columns:\n",
    "        confidence_values[s] = (predicted_changes[s] - predicted_changes.min()) / (predicted_changes.max() - predicted_changes.min())\n",
    "    return predicted_prices, predicted_changes, confidence_values\n"
   ],
   "metadata": {
    "collapsed": false,
    "ExecuteTime": {
     "start_time": "2023-07-02T22:13:54.908087Z",
     "end_time": "2023-07-02T22:13:54.998230Z"
    }
   }
  },
  {
   "cell_type": "code",
   "execution_count": 357,
   "outputs": [],
   "source": [
    "def getDividends(s):\n",
    "    all_dividends = pd.DataFrame()\n",
    "    for stock in stocks:\n",
    "        ticker = yf.download(stock,period=\"5y\",actions=True)\n",
    "        dividends = ticker[\"Dividends\"].replace(0, np.nan).dropna().replace(np.nan, 0)\n",
    "        dividends = dividends.reset_index(drop=True)*4\n",
    "        all_dividends[stock] = dividends\n",
    "    return all_dividends.replace(np.nan, 0)\n",
    "\n",
    "def getGrowthRate(s):\n",
    "    end_date = pd.to_datetime('today')\n",
    "    start_date = end_date - pd.DateOffset(years=5)\n",
    "    annual_growth_rates = pd.DataFrame()\n",
    "    for stock in s:\n",
    "        data = yf.download(stock, start=start_date, end=end_date)\n",
    "        data['Year'] = data.index.year\n",
    "        yearly_prices = data.groupby('Year')['Adj Close'].last() / data.groupby('Year')['Adj Close'].first() - 1\n",
    "\n",
    "        # annual_growth_rates.loc[stock, 'Avg Growth Rate'] = yearly_prices.mean()\n",
    "        annual_growth_rates = pd.concat([annual_growth_rates, yearly_prices.rename(stock)], axis=1)\n",
    "\n",
    "    return annual_growth_rates\n",
    "\n",
    "def predictGrowth(s, d, model=\"RF\"):\n",
    "    dividends_prediction = pd.Series(dtype=float)\n",
    "    for stock in s:\n",
    "        # Define the features and target variable for the machine learning model\n",
    "        X = np.unique(d[[stock]].values)[:-1]  # Independent variables (dividend value for the past period)\n",
    "        y = np.unique(d[[stock]].values)[1:]  # Dependent variable (dividend value for the next period)\n",
    "\n",
    "        if model == 'RF':\n",
    "            estimator  = RandomForestRegressor(max_depth=2, random_state=0)\n",
    "        elif model == 'SVM':\n",
    "            estimator = SVR(kernel='rbf')\n",
    "        elif model == 'DT':\n",
    "            estimator = DecisionTreeRegressor(max_depth=2, random_state=0)\n",
    "        else:\n",
    "            raise ValueError(f\"Unknown model: {model}\")\n",
    "        estimator.fit(X.reshape(-1, 1), y)\n",
    "\n",
    "        # Use the trained model to predict the dividend value for the next period\n",
    "        next_period_dividend = estimator.predict(d[[stock]].values[-1].reshape(1, -1))[0]\n",
    "        dividends_prediction[stock] = next_period_dividend\n",
    "        #print(\"Predicted next period dividend for\", stock, next_period_dividend)\n",
    "    return dividends_prediction"
   ],
   "metadata": {
    "collapsed": false,
    "ExecuteTime": {
     "start_time": "2023-07-02T22:13:54.998230Z",
     "end_time": "2023-07-02T22:13:54.999229Z"
    }
   }
  },
  {
   "cell_type": "code",
   "execution_count": 358,
   "outputs": [
    {
     "name": "stdout",
     "output_type": "stream",
     "text": [
      "[*********************100%***********************]  17 of 17 completed\n",
      "[*********************100%***********************]  1 of 1 completed\n"
     ]
    }
   ],
   "source": [
    "stocks = ['PFE', 'COST', 'AMZN', 'GOOGL', 'MRK', 'TSLA', 'LMT', 'BSX', 'HSBC', 'MSFT', 'SEDG', 'CVX', 'MCD', 'AAPL', 'GS', 'CI', 'NVDA']\n",
    "stock_prices = getStockPrice(stocks, lastYearMore=True)\n",
    "index = ['^SPX']\n",
    "index_price = getStockPrice(index)"
   ],
   "metadata": {
    "collapsed": false,
    "ExecuteTime": {
     "start_time": "2023-07-02T22:13:54.998230Z",
     "end_time": "2023-07-02T22:13:56.167052Z"
    }
   }
  },
  {
   "cell_type": "code",
   "execution_count": 359,
   "outputs": [
    {
     "name": "stdout",
     "output_type": "stream",
     "text": [
      "[*********************100%***********************]  1 of 1 completed\n",
      "[*********************100%***********************]  1 of 1 completed\n",
      "[*********************100%***********************]  1 of 1 completed\n",
      "[*********************100%***********************]  1 of 1 completed\n",
      "[*********************100%***********************]  1 of 1 completed\n",
      "[*********************100%***********************]  1 of 1 completed\n",
      "[*********************100%***********************]  1 of 1 completed\n",
      "[*********************100%***********************]  1 of 1 completed\n",
      "[*********************100%***********************]  1 of 1 completed\n",
      "[*********************100%***********************]  1 of 1 completed\n",
      "[*********************100%***********************]  1 of 1 completed\n",
      "[*********************100%***********************]  1 of 1 completed\n",
      "[*********************100%***********************]  1 of 1 completed\n",
      "[*********************100%***********************]  1 of 1 completed\n",
      "[*********************100%***********************]  1 of 1 completed\n",
      "[*********************100%***********************]  1 of 1 completed\n",
      "[*********************100%***********************]  1 of 1 completed\n",
      "[*********************100%***********************]  1 of 1 completed\n",
      "[*********************100%***********************]  1 of 1 completed\n",
      "[*********************100%***********************]  1 of 1 completed\n",
      "[*********************100%***********************]  1 of 1 completed\n",
      "[*********************100%***********************]  1 of 1 completed\n"
     ]
    }
   ],
   "source": [
    "# Fetch dividends\n",
    "dividends = getDividends(stocks)\n",
    "dividend_growth_rates = dividends.pct_change().replace(np.nan, 0)\n",
    "avg_dividends_growth_rate = dividend_growth_rates.mask(dividend_growth_rates == 0).sum()/5\n",
    "# Filter out those rows has zero values on dividends\n",
    "zero_bool_index = avg_dividends_growth_rate.eq(0)\n",
    "zero_index = avg_dividends_growth_rate.index[zero_bool_index]\n",
    "# Index them and fetch their stock price and calculate growth rate\n",
    "part_growth_rate = getGrowthRate(zero_index)\n",
    "growth_rate = pd.DataFrame(avg_dividends_growth_rate, columns=['Avg Growth Rate'])\n",
    "# Update those data into the dataset\n",
    "growth_rate.update(part_growth_rate)"
   ],
   "metadata": {
    "collapsed": false,
    "ExecuteTime": {
     "start_time": "2023-07-02T22:13:56.164028Z",
     "end_time": "2023-07-02T22:14:00.213409Z"
    }
   }
  },
  {
   "cell_type": "code",
   "execution_count": 360,
   "outputs": [],
   "source": [
    "df = part_growth_rate\n",
    "new_df = pd.DataFrame()\n",
    "# 对于每一年\n",
    "for year in df.index.unique():\n",
    "    # 如果年份是 2018 或者 2023，复制 2 次，否则复制 4 次\n",
    "    if year == 2018 or year == 2023:\n",
    "        copies = 2\n",
    "    else:\n",
    "        copies = 4\n",
    "\n",
    "    # 复制行并添加到新的 DataFrame\n",
    "    for _ in range(copies):\n",
    "        new_df = pd.concat([new_df] + [df.loc[[year]]])\n",
    "\n",
    "# 重置新 DataFrame 的索引\n",
    "new_df.reset_index(inplace=True)\n",
    "dividends.update(new_df)"
   ],
   "metadata": {
    "collapsed": false,
    "ExecuteTime": {
     "start_time": "2023-07-02T22:14:00.212408Z",
     "end_time": "2023-07-02T22:14:00.213409Z"
    }
   }
  },
  {
   "cell_type": "code",
   "execution_count": 361,
   "outputs": [],
   "source": [
    "predicted_growth = predictGrowth(stocks, dividends)"
   ],
   "metadata": {
    "collapsed": false,
    "ExecuteTime": {
     "start_time": "2023-07-02T22:14:00.212408Z",
     "end_time": "2023-07-02T22:14:02.209209Z"
    }
   }
  },
  {
   "cell_type": "code",
   "execution_count": 362,
   "outputs": [
    {
     "data": {
      "text/plain": "PFE       1.626600\nCOST     28.707200\nAMZN      0.648539\nGOOGL     0.573177\nMRK       2.845476\nTSLA      5.389562\nLMT      11.722667\nBSX       0.224879\nHSBC      1.608067\nMSFT      2.636800\nSEDG      0.169270\nCVX       5.922000\nMCD       5.899200\nAAPL      0.945000\nGS        9.194000\nCI        1.561600\nNVDA      0.160000\ndtype: float64"
     },
     "execution_count": 362,
     "metadata": {},
     "output_type": "execute_result"
    }
   ],
   "source": [
    "predicted_growth"
   ],
   "metadata": {
    "collapsed": false,
    "ExecuteTime": {
     "start_time": "2023-07-02T22:14:02.310052Z",
     "end_time": "2023-07-02T22:14:02.311065Z"
    }
   }
  },
  {
   "cell_type": "code",
   "execution_count": 363,
   "outputs": [],
   "source": [
    "# Fetch discount rate from https://www.alphaspread.com/\n",
    "discount_rate = {\n",
    "    \"AAPL\": 0.0866,\n",
    "    \"AMZN\": 0.0794,\n",
    "    \"BSX\": 0.0828,\n",
    "    \"CI\": 0.0828,\n",
    "    \"COST\": 0.0794,\n",
    "    \"CVX\": 0.0876,\n",
    "    \"GOOGL\": 0.0823,\n",
    "    \"GS\": 0.0785,\n",
    "    \"HSBC\": 0.0694,\n",
    "    \"LMT\": 0.0861,\n",
    "    \"MCD\": 0.0799,\n",
    "    \"MRK\": 0.0814,\n",
    "    \"MSFT\": 0.0866,\n",
    "    \"PFE\": 0.0814,\n",
    "    \"SEDG\": 0.0699,\n",
    "    \"TSLA\": 0.0938,\n",
    "    \"NVDA\": 0.0961\n",
    "}\n",
    "intrinsic_price = pd.Series(dtype=float)\n",
    "for stock in stocks:\n",
    "    intrinsic_price[stock] = predicted_growth[stock] / (discount_rate[stock] - avg_dividends_growth_rate[stock])"
   ],
   "metadata": {
    "collapsed": false,
    "ExecuteTime": {
     "start_time": "2023-07-02T22:14:02.311065Z",
     "end_time": "2023-07-02T22:14:02.311065Z"
    }
   }
  },
  {
   "cell_type": "code",
   "execution_count": 364,
   "outputs": [],
   "source": [
    "p_price, p_change, p_confidence = predict(stock_prices, model=\"RF\")"
   ],
   "metadata": {
    "collapsed": false,
    "ExecuteTime": {
     "start_time": "2023-07-02T22:14:02.311065Z",
     "end_time": "2023-07-02T22:14:50.045476Z"
    }
   }
  },
  {
   "cell_type": "code",
   "execution_count": 365,
   "outputs": [
    {
     "data": {
      "text/plain": "AAPL     0.298556\nAMZN     0.274513\nBSX      0.208801\nCI       0.165749\nCOST     0.184703\nCVX      0.178398\nGOOGL    0.250668\nGS       0.191841\nHSBC     0.178501\nLMT      0.150306\nMCD      0.168958\nMRK      0.158504\nMSFT     0.288499\nNVDA     0.415513\nPFE      0.090212\nSEDG     0.231122\nTSLA     0.314426\ndtype: float64"
     },
     "execution_count": 365,
     "metadata": {},
     "output_type": "execute_result"
    }
   ],
   "source": [
    "viewdict = (p_change+0.3).to_dict()\n",
    "mcaps = {}\n",
    "for t in stocks:\n",
    "    stock = yf.Ticker(t)\n",
    "    mcaps[t] = stock.info[\"marketCap\"]\n",
    "S = risk_models.CovarianceShrinkage(p_price).ledoit_wolf()\n",
    "delta = black_litterman.market_implied_risk_aversion(index_price)\n",
    "market_prior = black_litterman.market_implied_prior_returns(mcaps, delta, S)\n",
    "market_prior"
   ],
   "metadata": {
    "collapsed": false,
    "ExecuteTime": {
     "start_time": "2023-07-02T22:14:50.146586Z",
     "end_time": "2023-07-02T22:14:52.883926Z"
    }
   }
  },
  {
   "cell_type": "code",
   "execution_count": 366,
   "outputs": [
    {
     "data": {
      "text/plain": "AAPL     0.227370\nAMZN     0.182292\nBSX      0.227033\nCI       0.246223\nCOST     0.221036\nCVX      0.314801\nGOOGL    0.207503\nGS       0.320259\nHSBC     0.216599\nLMT      0.297783\nMCD      0.252479\nMRK      0.240300\nMSFT     0.214944\nNVDA     0.289950\nPFE      0.372453\nSEDG     0.371211\nTSLA     0.207120\ndtype: float64"
     },
     "execution_count": 366,
     "metadata": {},
     "output_type": "execute_result"
    }
   ],
   "source": [
    "bl = BlackLittermanModel(S, pi=market_prior, absolute_views=viewdict)\n",
    "bl = BlackLittermanModel(S, pi=market_prior, absolute_views=viewdict, omega=\"idzorek\", view_confidences=p_confidence.values)\n",
    "ret_bl = bl.bl_returns()\n",
    "ret_bl"
   ],
   "metadata": {
    "collapsed": false,
    "ExecuteTime": {
     "start_time": "2023-07-02T22:14:52.874149Z",
     "end_time": "2023-07-02T22:14:52.883926Z"
    }
   }
  },
  {
   "cell_type": "code",
   "execution_count": 367,
   "outputs": [
    {
     "name": "stderr",
     "output_type": "stream",
     "text": [
      "/home/tedwu/anaconda3/envs/ML_Finance/lib/python3.9/site-packages/pypfopt/efficient_frontier/efficient_frontier.py:259: UserWarning: max_sharpe transforms the optimization problem so additional objectives may not work as expected.\n",
      "  warnings.warn(\n"
     ]
    },
    {
     "data": {
      "text/plain": "OrderedDict([('AAPL', 0.05),\n             ('AMZN', 0.05),\n             ('BSX', 0.05),\n             ('CI', 0.05),\n             ('COST', 0.05),\n             ('CVX', 0.07291),\n             ('GOOGL', 0.05),\n             ('GS', 0.07384),\n             ('HSBC', 0.05),\n             ('LMT', 0.07654),\n             ('MCD', 0.05),\n             ('MRK', 0.05),\n             ('MSFT', 0.05),\n             ('NVDA', 0.05),\n             ('PFE', 0.1),\n             ('SEDG', 0.07671),\n             ('TSLA', 0.05)])"
     },
     "execution_count": 367,
     "metadata": {},
     "output_type": "execute_result"
    }
   ],
   "source": [
    "S_bl = bl.bl_cov()\n",
    "ef = EfficientFrontier(ret_bl, S_bl)\n",
    "ef.add_objective(objective_functions.L2_reg)\n",
    "ef.add_constraint(lambda w: w <= 0.10)\n",
    "ef.add_constraint(lambda w: w >= 0.05)\n",
    "ef.max_sharpe()\n",
    "weights = ef.clean_weights()\n",
    "weights"
   ],
   "metadata": {
    "collapsed": false,
    "ExecuteTime": {
     "start_time": "2023-07-02T22:14:52.874149Z",
     "end_time": "2023-07-02T22:14:52.885429Z"
    }
   }
  },
  {
   "cell_type": "code",
   "execution_count": 368,
   "outputs": [
    {
     "data": {
      "text/plain": "0.9107961884425884"
     },
     "execution_count": 368,
     "metadata": {},
     "output_type": "execute_result"
    }
   ],
   "source": [
    "expected_return, volatility, sharpe_ratio = ef.portfolio_performance(verbose=False)\n",
    "sharpe_ratio"
   ],
   "metadata": {
    "collapsed": false,
    "ExecuteTime": {
     "start_time": "2023-07-02T22:14:52.874149Z",
     "end_time": "2023-07-02T22:14:52.885429Z"
    }
   }
  },
  {
   "cell_type": "code",
   "execution_count": 369,
   "outputs": [
    {
     "data": {
      "text/plain": "<Figure size 1000x1000 with 1 Axes>",
      "image/png": "[encoded data removed]"
     },
     "metadata": {},
     "output_type": "display_data"
    }
   ],
   "source": [
    "pd.Series(weights).plot.pie(figsize=(10,10));"
   ],
   "metadata": {
    "collapsed": false,
    "ExecuteTime": {
     "start_time": "2023-07-02T22:14:52.874149Z",
     "end_time": "2023-07-02T22:14:53.219862Z"
    }
   }
  },
  {
   "cell_type": "code",
   "execution_count": 370,
   "outputs": [
    {
     "name": "stdout",
     "output_type": "stream",
     "text": [
      "Leftover: $139.62\n"
     ]
    },
    {
     "name": "stderr",
     "output_type": "stream",
     "text": [
      "/home/tedwu/anaconda3/envs/ML_Finance/lib/python3.9/site-packages/cvxpy/problems/problem.py:1385: UserWarning: Solution may be inaccurate. Try another solver, adjusting the solver settings, or solve with verbose=True for more information.\n",
      "  warnings.warn(\n"
     ]
    },
    {
     "data": {
      "text/plain": "{'AMZN': 16,\n 'BSX': 40,\n 'CI': 7,\n 'COST': 4,\n 'CVX': 19,\n 'GOOGL': 18,\n 'GS': 9,\n 'HSBC': 56,\n 'LMT': 7,\n 'MCD': 7,\n 'MRK': 18,\n 'MSFT': 6,\n 'NVDA': 5,\n 'PFE': 115,\n 'SEDG': 12,\n 'TSLA': 8}"
     },
     "execution_count": 370,
     "metadata": {},
     "output_type": "execute_result"
    }
   ],
   "source": [
    "from pypfopt import DiscreteAllocation\n",
    "\n",
    "da = DiscreteAllocation(weights, stock_prices.iloc[-1], total_portfolio_value=20000)\n",
    "alloc, leftover = da.lp_portfolio()\n",
    "print(f\"Leftover: ${leftover:.2f}\")\n",
    "alloc"
   ],
   "metadata": {
    "collapsed": false,
    "ExecuteTime": {
     "start_time": "2023-07-02T22:14:53.216674Z",
     "end_time": "2023-07-02T22:14:54.000227Z"
    }
   }
  },
  {
   "cell_type": "code",
   "execution_count": 370,
   "outputs": [],
   "source": [],
   "metadata": {
    "collapsed": false,
    "ExecuteTime": {
     "start_time": "2023-07-02T22:14:53.997227Z",
     "end_time": "2023-07-02T22:14:54.000227Z"
    }
   }
  }
 ],
 "metadata": {
  "kernelspec": {
   "display_name": "Python 3",
   "language": "python",
   "name": "python3"
  },
  "language_info": {
   "codemirror_mode": {
    "name": "ipython",
    "version": 2
   },
   "file_extension": ".py",
   "mimetype": "text/x-python",
   "name": "python",
   "nbconvert_exporter": "python",
   "pygments_lexer": "ipython2",
   "version": "2.7.6"
  }
 },
 "nbformat": 4,
 "nbformat_minor": 0
}
