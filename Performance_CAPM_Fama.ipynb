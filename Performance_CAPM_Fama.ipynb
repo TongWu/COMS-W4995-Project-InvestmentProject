{
 "cells": [
  {
   "cell_type": "markdown",
   "metadata": {},
   "source": [
    "# CAPM Performance"
   ]
  },
  {
   "cell_type": "code",
   "execution_count": 42,
   "metadata": {},
   "outputs": [],
   "source": [
    "import statsmodels.api as sm\n",
    "import pandas as pd\n",
    "import numpy as np\n",
    "from statsmodels.formula.api import ols\n",
    "\n",
    "df = pd.read_csv(\"./Beta.csv\")\n",
    "df['Excess_Market_Return'] = df['Market_Return'] - df['RiskFree_Rate']\n",
    "df['Excess_Asset_Return'] = df['Asset_Return'] - df['RiskFree_Rate']"
   ]
  },
  {
   "cell_type": "code",
   "execution_count": 43,
   "metadata": {},
   "outputs": [
    {
     "name": "stdout",
     "output_type": "stream",
     "text": [
      "                             OLS Regression Results                            \n",
      "===============================================================================\n",
      "Dep. Variable:     Excess_Asset_Return   R-squared:                       0.780\n",
      "Model:                             OLS   Adj. R-squared:                  0.761\n",
      "Method:                  Least Squares   F-statistic:                     42.49\n",
      "Date:                 Mon, 03 Jul 2023   Prob (F-statistic):           2.86e-05\n",
      "Time:                         00:23:38   Log-Likelihood:                 60.330\n",
      "No. Observations:                   14   AIC:                            -116.7\n",
      "Df Residuals:                       12   BIC:                            -115.4\n",
      "Df Model:                            1                                         \n",
      "Covariance Type:             nonrobust                                         \n",
      "========================================================================================\n",
      "                           coef    std err          t      P>|t|      [0.025      0.975]\n",
      "----------------------------------------------------------------------------------------\n",
      "const                   -0.0019      0.005     -0.347      0.734      -0.014       0.010\n",
      "Excess_Market_Return     0.9594      0.147      6.518      0.000       0.639       1.280\n",
      "==============================================================================\n",
      "Omnibus:                       10.638   Durbin-Watson:                   1.852\n",
      "Prob(Omnibus):                  0.005   Jarque-Bera (JB):                6.586\n",
      "Skew:                          -1.269   Prob(JB):                       0.0371\n",
      "Kurtosis:                       5.202   Cond. No.                         157.\n",
      "==============================================================================\n",
      "\n",
      "Notes:\n",
      "[1] Standard Errors assume that the covariance matrix of the errors is correctly specified.\n"
     ]
    },
    {
     "name": "stderr",
     "output_type": "stream",
     "text": [
      "/home/tedwu/anaconda3/envs/ML_Finance/lib/python3.9/site-packages/scipy/stats/_stats_py.py:1736: UserWarning: kurtosistest only valid for n>=20 ... continuing anyway, n=14\n",
      "  warnings.warn(\"kurtosistest only valid for n>=20 ... continuing \"\n"
     ]
    }
   ],
   "source": [
    "X = df['Excess_Market_Return']\n",
    "y = df['Excess_Asset_Return']\n",
    "\n",
    "\n",
    "X = sm.add_constant(X)\n",
    "\n",
    "\n",
    "model = sm.OLS(y, X)\n",
    "results = model.fit()\n",
    "\n",
    "\n",
    "print(results.summary())"
   ]
  },
  {
   "cell_type": "code",
   "execution_count": 44,
   "metadata": {},
   "outputs": [
    {
     "name": "stdout",
     "output_type": "stream",
     "text": [
      "Multiple R:  0.8830380207839487\n",
      "R-squared:  0.7797561461500333\n",
      "Adjusted R-squared:  0.7614024916625362\n",
      "Standard Errors: \n",
      " const                   0.005357\n",
      "Excess_Market_Return    0.147194\n",
      "dtype: float64\n",
      "Number of Observations:  14.0\n"
     ]
    }
   ],
   "source": [
    "r_squared = results.rsquared\n",
    "\n",
    "multiple_r = np.sqrt(r_squared)\n",
    "print(\"Multiple R: \", multiple_r)\n",
    "\n",
    "print(\"R-squared: \", r_squared)\n",
    "\n",
    "adjusted_r_squared = results.rsquared_adj\n",
    "print(\"Adjusted R-squared: \", adjusted_r_squared)\n",
    "\n",
    "standard_errors = results.bse\n",
    "print(\"Standard Errors: \\n\", standard_errors)\n",
    "\n",
    "nobs = results.nobs\n",
    "print(\"Number of Observations: \", nobs)"
   ]
  },
  {
   "cell_type": "code",
   "execution_count": 45,
   "metadata": {},
   "outputs": [
    {
     "name": "stdout",
     "output_type": "stream",
     "text": [
      "                             0         1\n",
      "const                -0.013533  0.009811\n",
      "Excess_Market_Return  0.638711  1.280127\n"
     ]
    }
   ],
   "source": [
    "conf_int = results.conf_int()\n",
    "print(conf_int)"
   ]
  },
  {
   "cell_type": "code",
   "execution_count": 46,
   "metadata": {},
   "outputs": [
    {
     "name": "stdout",
     "output_type": "stream",
     "text": [
      "                        df    sum_sq   mean_sq          F    PR(>F)\n",
      "Excess_Market_Return   1.0  0.000524  0.000524  42.485062  0.000029\n",
      "Residual              12.0  0.000148  0.000012        NaN       NaN\n"
     ]
    }
   ],
   "source": [
    "model = ols('Excess_Asset_Return ~ Excess_Market_Return', data=df).fit()\n",
    "\n",
    "anova_table = sm.stats.anova_lm(model, typ=1)\n",
    "\n",
    "print(anova_table)"
   ]
  },
  {
   "cell_type": "code",
   "execution_count": 47,
   "metadata": {},
   "outputs": [
    {
     "name": "stdout",
     "output_type": "stream",
     "text": [
      "              df    sum_sq   mean_sq          F    PR(>F)\n",
      "Regression   1.0  0.000524  0.000524  42.485062  0.000029\n",
      "Residual    12.0  0.000148  0.000012        NaN       NaN\n"
     ]
    }
   ],
   "source": [
    "regression = anova_table[:-1].sum()\n",
    "regression.name = 'Regression'\n",
    "\n",
    "residual = anova_table.loc['Residual']\n",
    "\n",
    "anova_table_reduced = pd.concat([regression, residual], axis=1).T\n",
    "\n",
    "print(anova_table_reduced)"
   ]
  },
  {
   "cell_type": "markdown",
   "metadata": {},
   "source": [
    "# Fama French Three Factors Analysis"
   ]
  },
  {
   "cell_type": "code",
   "execution_count": 36,
   "metadata": {},
   "outputs": [
    {
     "name": "stdout",
     "output_type": "stream",
     "text": [
      "                             OLS Regression Results                            \n",
      "===============================================================================\n",
      "Dep. Variable:     Excess_Asset_Return   R-squared:                       0.177\n",
      "Model:                             OLS   Adj. R-squared:                 -0.071\n",
      "Method:                  Least Squares   F-statistic:                    0.7145\n",
      "Date:                 Mon, 03 Jul 2023   Prob (F-statistic):              0.565\n",
      "Time:                         00:17:57   Log-Likelihood:                 51.098\n",
      "No. Observations:                   14   AIC:                            -94.20\n",
      "Df Residuals:                       10   BIC:                            -91.64\n",
      "Df Model:                            3                                         \n",
      "Covariance Type:             nonrobust                                         \n",
      "==============================================================================\n",
      "                 coef    std err          t      P>|t|      [0.025      0.975]\n",
      "------------------------------------------------------------------------------\n",
      "const         -0.0364      0.002    -16.996      0.000      -0.041      -0.032\n",
      "Mkt_RF         0.0017      0.003      0.564      0.585      -0.005       0.008\n",
      "SMB           -0.0043      0.004     -1.069      0.310      -0.013       0.005\n",
      "HML           -0.0011      0.003     -0.338      0.742      -0.009       0.006\n",
      "==============================================================================\n",
      "Omnibus:                        0.225   Durbin-Watson:                   2.478\n",
      "Prob(Omnibus):                  0.894   Jarque-Bera (JB):                0.406\n",
      "Skew:                           0.144   Prob(JB):                        0.816\n",
      "Kurtosis:                       2.217   Cond. No.                         2.60\n",
      "==============================================================================\n",
      "\n",
      "Notes:\n",
      "[1] Standard Errors assume that the covariance matrix of the errors is correctly specified.\n"
     ]
    },
    {
     "name": "stderr",
     "output_type": "stream",
     "text": [
      "/home/tedwu/anaconda3/envs/ML_Finance/lib/python3.9/site-packages/scipy/stats/_stats_py.py:1736: UserWarning: kurtosistest only valid for n>=20 ... continuing anyway, n=14\n",
      "  warnings.warn(\"kurtosistest only valid for n>=20 ... continuing \"\n"
     ]
    }
   ],
   "source": [
    "df2 = pd.read_csv(\"./Fama.csv\")\n",
    "df2['Excess_Asset_Return'] = df['Asset_Return'] - df['RiskFree_Rate']\n",
    "\n",
    "X = df2[['Mkt_RF', 'SMB', 'HML']]\n",
    "y = df2['Excess_Asset_Return']\n",
    "\n",
    "X = sm.add_constant(X)\n",
    "\n",
    "model = sm.OLS(y, X)\n",
    "results = model.fit()\n",
    "\n",
    "print(results.summary())"
   ]
  },
  {
   "cell_type": "code",
   "execution_count": 37,
   "metadata": {},
   "outputs": [
    {
     "name": "stdout",
     "output_type": "stream",
     "text": [
      "Multiple R:  0.42012831050284677\n",
      "R-squared:  0.17650779728597643\n",
      "Adjusted R-squared:  -0.0705398635282306\n",
      "Standard Errors: \n",
      " const     0.002139\n",
      "Mkt_RF    0.003041\n",
      "SMB       0.004060\n",
      "HML       0.003353\n",
      "dtype: float64\n",
      "Number of Observations:  14.0\n"
     ]
    }
   ],
   "source": [
    "r_squared = results.rsquared\n",
    "\n",
    "multiple_r = np.sqrt(r_squared)\n",
    "print(\"Multiple R: \", multiple_r)\n",
    "\n",
    "print(\"R-squared: \", r_squared)\n",
    "\n",
    "adjusted_r_squared = results.rsquared_adj\n",
    "print(\"Adjusted R-squared: \", adjusted_r_squared)\n",
    "\n",
    "standard_errors = results.bse\n",
    "print(\"Standard Errors: \\n\", standard_errors)\n",
    "\n",
    "nobs = results.nobs\n",
    "print(\"Number of Observations: \", nobs)"
   ]
  },
  {
   "cell_type": "code",
   "execution_count": 38,
   "metadata": {},
   "outputs": [
    {
     "name": "stdout",
     "output_type": "stream",
     "text": [
      "               0         1\n",
      "const  -0.041128 -0.031594\n",
      "Mkt_RF -0.005060  0.008490\n",
      "SMB    -0.013386  0.004706\n",
      "HML    -0.008604  0.006338\n"
     ]
    }
   ],
   "source": [
    "conf_int = results.conf_int()\n",
    "print(conf_int)"
   ]
  },
  {
   "cell_type": "code",
   "execution_count": 39,
   "metadata": {},
   "outputs": [
    {
     "name": "stdout",
     "output_type": "stream",
     "text": [
      "            df    sum_sq   mean_sq         F    PR(>F)\n",
      "Mkt_RF     1.0  0.000007  0.000007  0.129962  0.725969\n",
      "SMB        1.0  0.000105  0.000105  1.899195  0.198220\n",
      "HML        1.0  0.000006  0.000006  0.114248  0.742347\n",
      "Residual  10.0  0.000554  0.000055       NaN       NaN\n"
     ]
    }
   ],
   "source": [
    "model = ols('Excess_Asset_Return ~ Mkt_RF + SMB + HML', data=df2).fit()\n",
    "\n",
    "anova_table = sm.stats.anova_lm(model, typ=1)\n",
    "\n",
    "print(anova_table)"
   ]
  },
  {
   "cell_type": "code",
   "execution_count": 40,
   "metadata": {},
   "outputs": [
    {
     "name": "stdout",
     "output_type": "stream",
     "text": [
      "              df    sum_sq   mean_sq         F    PR(>F)\n",
      "Regression   3.0  0.000119  0.000119  2.143406  1.666537\n",
      "Residual    10.0  0.000554  0.000055       NaN       NaN\n"
     ]
    }
   ],
   "source": [
    "regression = anova_table[:-1].sum()\n",
    "regression.name = 'Regression'\n",
    "\n",
    "residual = anova_table.loc['Residual']\n",
    "\n",
    "anova_table_reduced = pd.concat([regression, residual], axis=1).T\n",
    "\n",
    "print(anova_table_reduced)"
   ]
  },
  {
   "cell_type": "code",
   "execution_count": null,
   "metadata": {},
   "outputs": [],
   "source": []
  }
 ],
 "metadata": {
  "kernelspec": {
   "display_name": "Python 3 (ipykernel)",
   "language": "python",
   "name": "python3"
  },
  "language_info": {
   "codemirror_mode": {
    "name": "ipython",
    "version": 3
   },
   "file_extension": ".py",
   "mimetype": "text/x-python",
   "name": "python",
   "nbconvert_exporter": "python",
   "pygments_lexer": "ipython3",
   "version": "3.9.16"
  }
 },
 "nbformat": 4,
 "nbformat_minor": 1
}
