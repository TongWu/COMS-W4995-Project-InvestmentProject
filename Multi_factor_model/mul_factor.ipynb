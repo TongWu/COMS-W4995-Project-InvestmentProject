{
 "cells": [
  {
   "cell_type": "code",
   "execution_count": 175,
   "metadata": {
    "collapsed": true,
    "ExecuteTime": {
     "start_time": "2023-07-02T22:18:09.679250Z",
     "end_time": "2023-07-02T22:18:09.681250Z"
    }
   },
   "outputs": [],
   "source": [
    "import matplotlib.pyplot as plt\n",
    "import pandas as pd\n",
    "import numpy as np\n",
    "import cvxopt\n",
    "import yfinance as yf\n",
    "import pypfopt\n",
    "from pypfopt import risk_models\n",
    "from pypfopt import plotting\n",
    "from pypfopt import expected_returns\n",
    "from pypfopt import EfficientFrontier\n",
    "from pypfopt import DiscreteAllocation\n",
    "from pypfopt import objective_functions\n",
    "from sklearn.ensemble import RandomForestRegressor\n",
    "from sklearn.tree import DecisionTreeRegressor\n",
    "from sklearn.model_selection import train_test_split\n",
    "from pypfopt.discrete_allocation import DiscreteAllocation, get_latest_prices\n",
    "from sklearn.svm import SVR\n",
    "from sklearn.preprocessing import MinMaxScaler\n",
    "from sklearn.preprocessing import StandardScaler\n",
    "from sklearn.linear_model import Ridge\n",
    "import datetime"
   ]
  },
  {
   "cell_type": "code",
   "execution_count": 176,
   "outputs": [],
   "source": [
    "def getStockPrice(s, lastYearMore = False):\n",
    "    end_date = pd.Timestamp.now()\n",
    "    start_date = end_date - pd.DateOffset(years=5)\n",
    "    raw = yf.download(s, start=start_date, end=end_date)\n",
    "    p = raw[\"Adj Close\"].dropna(how=\"all\")\n",
    "    # Add cash into the dataset\n",
    "\n",
    "    # Copy last year data to achieve 1.5x weight\n",
    "    # Add weights\n",
    "    if lastYearMore:\n",
    "        recent_year = end_date - pd.DateOffset(years=1)\n",
    "        recent_data = p[p.index >= recent_year]\n",
    "        weighted_prices = pd.concat([p, recent_data, recent_data * 0.5])\n",
    "        return weighted_prices.dropna()\n",
    "\n",
    "    return p.dropna()\n",
    "\n",
    "def predict(prices, model=\"RF\"):\n",
    "    if isinstance(prices, pd.Series):\n",
    "        prices = prices.to_frame()\n",
    "    # For each stock, create a Random Forest model and predict the price for next 20 days\n",
    "    predicted_prices = pd.DataFrame(index=range(len(prices.index) + 20))\n",
    "    predicted_changes = pd.Series(index=prices.columns)\n",
    "    confidence_values = pd.Series(index=prices.columns)\n",
    "    for s in prices.columns:\n",
    "        X = np.array(range(len(prices[s]))).reshape(-1, 1)\n",
    "        y = prices[s].values\n",
    "        X_train, X_test, y_train, y_test = train_test_split(X, y, test_size=0.2, random_state=42)\n",
    "\n",
    "        if model == 'RF':\n",
    "            estimator  = RandomForestRegressor(max_depth=2, random_state=0)\n",
    "        elif model == 'SVM':\n",
    "            estimator = SVR(kernel='rbf')\n",
    "        elif model == 'DT':\n",
    "            estimator = DecisionTreeRegressor(max_depth=2, random_state=0)\n",
    "        else:\n",
    "            raise ValueError(f\"Unknown model: {model}\")\n",
    "\n",
    "        estimator.fit(X_train, y_train)\n",
    "\n",
    "        # Predict for next 20 days\n",
    "        future = np.array(range(len(prices[s]), len(prices[s]) + 20)).reshape(-1, 1)\n",
    "        for day in future:\n",
    "            X_day = day.reshape(1, -1)\n",
    "            predicted = estimator.predict(X_day)\n",
    "            y = np.concatenate((y, predicted))\n",
    "            X = np.concatenate((X, X_day))\n",
    "            estimator.fit(X, y)  # retrain the model with the predicted value\n",
    "        predicted_prices[s] = y\n",
    "        change = (y[-1] - y[-21]) / y[-21]\n",
    "        predicted_changes[s] = change\n",
    "    for s in prices.columns:\n",
    "        confidence_values[s] = (predicted_changes[s] - predicted_changes.min()) / (predicted_changes.max() - predicted_changes.min())\n",
    "    predicted_only = predicted_prices.tail(20)\n",
    "    return predicted_prices, predicted_changes, confidence_values, predicted_only\n"
   ],
   "metadata": {
    "collapsed": false,
    "ExecuteTime": {
     "start_time": "2023-07-02T22:18:09.679250Z",
     "end_time": "2023-07-02T22:18:09.758543Z"
    }
   }
  },
  {
   "cell_type": "code",
   "execution_count": 177,
   "outputs": [],
   "source": [
    "def predict_ridge(s, factor_returns, future_factors, model='ridge'):\n",
    "    future_returns = {}\n",
    "    end_date = pd.Timestamp.now()\n",
    "    start_date = end_date - pd.DateOffset(years=5)\n",
    "\n",
    "    for stock in stocks:\n",
    "        stock_data = yf.download(stock, start=start_date, end=end_date)\n",
    "        stock_returns = ((stock_data['Close'] / stock_data['Close'].shift(1))-1).dropna().tolist()\n",
    "\n",
    "        if model == 'RF':\n",
    "            estimator  = RandomForestRegressor(max_depth=2, random_state=0)\n",
    "        elif model == 'SVM':\n",
    "            estimator = SVR(kernel='rbf')\n",
    "        elif model == 'DT':\n",
    "            estimator = DecisionTreeRegressor(max_depth=2, random_state=0)\n",
    "        elif model == 'ridge':\n",
    "            estimator = Ridge()\n",
    "        else:\n",
    "            raise ValueError(f\"Unknown model: {model}\")\n",
    "\n",
    "        estimator.fit(factor_returns, stock_returns)\n",
    "        stock_future = estimator.predict(future_factors)\n",
    "        # print(f\"Coefficients for {stock} stock: \", single_index_reg.coef_)\n",
    "\n",
    "        future_returns[stock] = stock_future\n",
    "\n",
    "    future_returns = pd.DataFrame(future_returns)\n",
    "    return future_returns"
   ],
   "metadata": {
    "collapsed": false,
    "ExecuteTime": {
     "start_time": "2023-07-02T22:18:09.756275Z",
     "end_time": "2023-07-02T22:18:09.758543Z"
    }
   }
  },
  {
   "cell_type": "code",
   "execution_count": 178,
   "outputs": [
    {
     "name": "stdout",
     "output_type": "stream",
     "text": [
      "[*********************100%***********************]  17 of 17 completed\n",
      "[*********************100%***********************]  1 of 1 completed\n",
      "[*********************100%***********************]  4 of 4 completed\n"
     ]
    }
   ],
   "source": [
    "stocks = ['PFE', 'COST', 'AMZN', 'GOOGL', 'MRK', 'TSLA', 'LMT', 'BSX', 'HSBC', 'MSFT', 'SEDG', 'CVX', 'MCD', 'AAPL', 'GS', 'CI', 'NVDA']\n",
    "stock_prices = getStockPrice(stocks, lastYearMore=True)\n",
    "index = ['^SPX']\n",
    "index_price = getStockPrice(index)\n",
    "factor = ['^SPX', '^IXIC', '^DJI', '^RUT']\n",
    "factor_price = getStockPrice(factor)"
   ],
   "metadata": {
    "collapsed": false,
    "ExecuteTime": {
     "start_time": "2023-07-02T22:18:09.756275Z",
     "end_time": "2023-07-02T22:18:11.247994Z"
    }
   }
  },
  {
   "cell_type": "code",
   "execution_count": 179,
   "outputs": [],
   "source": [
    "p_price, p_change, p_confidence, p_only = predict(factor_price, model=\"RF\")\n",
    "factor_returns = factor_price.pct_change().dropna()\n",
    "sp_returns = factor_returns['^SPX']\n",
    "nasdaq_returns = factor_returns['^IXIC']\n",
    "dow_returns = factor_returns['^DJI']\n",
    "russell_returns = factor_returns['^RUT']\n",
    "sp_future = p_only.pct_change().dropna()['^SPX']\n",
    "nasdaq_future = p_only.pct_change().dropna()['^IXIC']\n",
    "dow_future = p_only.pct_change().dropna()['^DJI']\n",
    "russell_future = p_only.pct_change().dropna()['^RUT']"
   ],
   "metadata": {
    "collapsed": false,
    "ExecuteTime": {
     "start_time": "2023-07-02T22:18:11.247994Z",
     "end_time": "2023-07-02T22:18:21.916376Z"
    }
   }
  },
  {
   "cell_type": "code",
   "execution_count": 180,
   "outputs": [
    {
     "name": "stdout",
     "output_type": "stream",
     "text": [
      "{2018: -0.8731875620129659, 2019: -0.23617811356352036, 2020: -1.5469812407578423, 2021: 0.43936719519542417, 2022: 0.8457453584592317, 2023: 1.3712343626796726}\n"
     ]
    }
   ],
   "source": [
    "GDP_prices = {\n",
    "        2018: 59607,\n",
    "        2019: 60698,\n",
    "        2020: 58453,\n",
    "        2021: 61855,\n",
    "        2022: 62551,\n",
    "        2023: 63451\n",
    "    }\n",
    "values = list(GDP_prices.values())\n",
    "values_array = [[value] for value in values]\n",
    "scaler = StandardScaler()\n",
    "scaled_values = scaler.fit_transform(values_array)\n",
    "scaled_values = scaled_values.flatten()\n",
    "scaled_GDP_prices = {year: scaled_value for year, scaled_value in zip(GDP_prices.keys(), scaled_values)}\n",
    "print(scaled_GDP_prices)"
   ],
   "metadata": {
    "collapsed": false,
    "ExecuteTime": {
     "start_time": "2023-07-02T22:18:21.915305Z",
     "end_time": "2023-07-02T22:18:21.916376Z"
    }
   }
  },
  {
   "cell_type": "code",
   "execution_count": 181,
   "outputs": [],
   "source": [
    "for index, row in factor_returns.iterrows():\n",
    "    # Extract the year from the date\n",
    "    year = index.year\n",
    "\n",
    "    # Fill the 'GDP' column with the corresponding GDP price based on the year\n",
    "    factor_returns.at[index, 'GDP'] = scaled_GDP_prices.get(year)"
   ],
   "metadata": {
    "collapsed": false,
    "ExecuteTime": {
     "start_time": "2023-07-02T22:18:21.915305Z",
     "end_time": "2023-07-02T22:18:22.047687Z"
    }
   }
  },
  {
   "cell_type": "code",
   "execution_count": 182,
   "outputs": [],
   "source": [
    "future_factors = {'^DJI': dow_future, '^IXIC': nasdaq_future, '^RUT': russell_future, '^SPX': sp_future, 'GDP': [scaled_GDP_prices.get(2023)]*19}\n",
    "future_factors = pd.DataFrame(future_factors)"
   ],
   "metadata": {
    "collapsed": false,
    "ExecuteTime": {
     "start_time": "2023-07-02T22:18:22.047687Z",
     "end_time": "2023-07-02T22:18:22.047687Z"
    }
   }
  },
  {
   "cell_type": "code",
   "execution_count": 183,
   "outputs": [
    {
     "name": "stdout",
     "output_type": "stream",
     "text": [
      "[*********************100%***********************]  1 of 1 completed\n",
      "[*********************100%***********************]  1 of 1 completed\n",
      "[*********************100%***********************]  1 of 1 completed\n",
      "[*********************100%***********************]  1 of 1 completed\n",
      "[*********************100%***********************]  1 of 1 completed\n",
      "[*********************100%***********************]  1 of 1 completed\n",
      "[*********************100%***********************]  1 of 1 completed\n",
      "[*********************100%***********************]  1 of 1 completed\n",
      "[*********************100%***********************]  1 of 1 completed\n",
      "[*********************100%***********************]  1 of 1 completed\n",
      "[*********************100%***********************]  1 of 1 completed\n",
      "[*********************100%***********************]  1 of 1 completed\n",
      "[*********************100%***********************]  1 of 1 completed\n",
      "[*********************100%***********************]  1 of 1 completed\n",
      "[*********************100%***********************]  1 of 1 completed\n",
      "[*********************100%***********************]  1 of 1 completed\n",
      "[*********************100%***********************]  1 of 1 completed\n"
     ]
    }
   ],
   "source": [
    "future_returns = predict_ridge(stocks, factor_returns, future_factors)"
   ],
   "metadata": {
    "collapsed": false,
    "ExecuteTime": {
     "start_time": "2023-07-02T22:18:22.047687Z",
     "end_time": "2023-07-02T22:18:25.233395Z"
    }
   }
  },
  {
   "cell_type": "code",
   "execution_count": 184,
   "outputs": [
    {
     "name": "stdout",
     "output_type": "stream",
     "text": [
      "              PFE       COST       AMZN      GOOGL        MRK       TSLA  \\\n",
      "PFE    106.116471  22.955173  51.022386  27.622586  15.359142  83.166090   \n",
      "COST    22.955173   5.481046  10.151866   6.793520   3.593675  17.929641   \n",
      "AMZN    51.022386  10.151866  26.099891  11.873263   6.921768  40.107430   \n",
      "GOOGL   27.622586   6.793520  11.873263   8.490844   4.428152  21.548677   \n",
      "MRK     15.359142   3.593675   6.921768   4.428152   2.366175  12.006352   \n",
      "TSLA    83.166090  17.929641  40.107430  21.548677  12.006352  65.195428   \n",
      "LMT     19.106623   4.518071   8.529705   5.584498   2.968753  14.929480   \n",
      "BSX     19.841850   4.671217   8.889351   5.767367   3.071767  15.504056   \n",
      "HSBC    15.467206   3.596960   7.006066   4.425401   2.371308  12.090933   \n",
      "MSFT    25.388737   6.135348  11.101013   7.630478   4.012980  19.820768   \n",
      "SEDG    47.109638   8.800639  25.118638  10.045686   6.088503  37.125363   \n",
      "CVX     19.111382   4.495797   8.569816   5.549771   2.957258  14.933427   \n",
      "MCD     24.187423   5.851824  10.572047   7.280017   3.827954  18.883370   \n",
      "AAPL    26.861496   6.570821  11.609295   8.199788   4.287699  20.960743   \n",
      "GS      31.337888   8.517234  12.112972  10.926558   5.453802  24.344035   \n",
      "CI      27.770550   6.980896  11.695721   8.775429   4.533611  21.650238   \n",
      "NVDA    18.281130   4.255748   8.268541   5.237501   2.804270  14.289555   \n",
      "\n",
      "             LMT        BSX       HSBC       MSFT       SEDG        CVX  \\\n",
      "PFE    19.106623  19.841850  15.467206  25.388737  47.109638  19.111382   \n",
      "COST    4.518071   4.671217   3.596960   6.135348   8.800639   4.495797   \n",
      "AMZN    8.529705   8.889351   7.006066  11.101013  25.118638   8.569816   \n",
      "GOOGL   5.584498   5.767367   4.425401   7.630478  10.045686   5.549771   \n",
      "MRK     2.968753   3.071767   2.371308   4.012980   6.088503   2.957258   \n",
      "TSLA   14.929480  15.504056  12.090933  19.820768  37.125363  14.933427   \n",
      "LMT     3.729338   3.857110   2.973906   5.051511   7.440535   3.713533   \n",
      "BSX     3.857110   3.990663   3.078538   5.220322   7.772634   3.842255   \n",
      "HSBC    2.973906   3.078538   2.378525   4.013965   6.176681   2.964552   \n",
      "MSFT    5.051511   5.220322   4.013965   6.877368   9.533503   5.023772   \n",
      "SEDG    7.440535   7.772634   6.176681   9.533503  24.907865   7.491085   \n",
      "CVX     3.713533   3.842255   2.964552   5.023772   7.491085   3.700048   \n",
      "MCD     4.820359   4.980712   3.829778   6.560028   9.060058   4.794845   \n",
      "AAPL    5.404273   5.582064   4.285954   7.375704   9.870617   5.371653   \n",
      "GS      6.952882   7.152915   5.428862   9.668442   9.167531   6.886980   \n",
      "CI      5.731953   5.912944   4.526391   7.859043   9.697149   5.691743   \n",
      "NVDA    3.516522   3.640316   2.811852   4.749923   7.292016   3.504447   \n",
      "\n",
      "             MCD       AAPL         GS         CI       NVDA  \n",
      "PFE    24.187423  26.861496  31.337888  27.770550  18.281130  \n",
      "COST    5.851824   6.570821   8.517234   6.980896   4.255748  \n",
      "AMZN   10.572047  11.609295  12.112972  11.695721   8.268541  \n",
      "GOOGL   7.280017   8.199788  10.926558   8.775429   5.237501  \n",
      "MRK     3.827954   4.287699   5.453802   4.533611   2.804270  \n",
      "TSLA   18.883370  20.960743  24.344035  21.650238  14.289555  \n",
      "LMT     4.820359   5.404273   6.952882   5.731953   3.516522  \n",
      "BSX     4.980712   5.582064   7.152915   5.912944   3.640316  \n",
      "HSBC    3.829778   4.285954   5.428862   4.526391   2.811852  \n",
      "MSFT    6.560028   7.375704   9.668442   7.859043   4.749923  \n",
      "SEDG    9.060058   9.870617   9.167531   9.697149   7.292016  \n",
      "CVX     4.794845   5.371653   6.886980   5.691743   3.504447  \n",
      "MCD     6.262225   7.036849   9.255284   7.508114   4.529090  \n",
      "AAPL    7.036849   7.921170  10.502721   8.466566   5.072057  \n",
      "GS      9.255284  10.502721  15.285867  11.531122   6.417815  \n",
      "CI      7.508114   8.466566  11.531122   9.122017   5.353184  \n",
      "NVDA    4.529090   5.072057   6.417815   5.353184   3.325948  \n"
     ]
    }
   ],
   "source": [
    "S = risk_models.sample_cov(future_returns)\n",
    "print(S)"
   ],
   "metadata": {
    "collapsed": false,
    "ExecuteTime": {
     "start_time": "2023-07-02T22:18:25.232393Z",
     "end_time": "2023-07-02T22:18:25.284210Z"
    }
   }
  },
  {
   "cell_type": "code",
   "execution_count": 185,
   "outputs": [
    {
     "name": "stderr",
     "output_type": "stream",
     "text": [
      "/home/tedwu/anaconda3/envs/ML_Finance/lib/python3.9/site-packages/pypfopt/efficient_frontier/efficient_frontier.py:259: UserWarning: max_sharpe transforms the optimization problem so additional objectives may not work as expected.\n",
      "  warnings.warn(\n"
     ]
    },
    {
     "data": {
      "text/plain": "OrderedDict([('PFE', 0.05),\n             ('COST', 0.05),\n             ('AMZN', 0.05),\n             ('GOOGL', 0.05),\n             ('MRK', 0.05),\n             ('TSLA', 0.05),\n             ('LMT', 0.05),\n             ('BSX', 0.05),\n             ('HSBC', 0.1),\n             ('MSFT', 0.05),\n             ('SEDG', 0.05),\n             ('CVX', 0.1),\n             ('MCD', 0.05),\n             ('AAPL', 0.05),\n             ('GS', 0.05),\n             ('CI', 0.05),\n             ('NVDA', 0.1)])"
     },
     "execution_count": 185,
     "metadata": {},
     "output_type": "execute_result"
    }
   ],
   "source": [
    "ef = EfficientFrontier(future_returns.mean(), S)\n",
    "ef.add_objective(objective_functions.L2_reg)\n",
    "ef.add_constraint(lambda w: w <= 0.10)\n",
    "ef.add_constraint(lambda w: w >= 0.05)\n",
    "ef.max_sharpe(risk_free_rate=0.0)\n",
    "weights = ef.clean_weights()\n",
    "weights"
   ],
   "metadata": {
    "collapsed": false,
    "ExecuteTime": {
     "start_time": "2023-07-02T22:18:25.283207Z",
     "end_time": "2023-07-02T22:18:25.284210Z"
    }
   }
  },
  {
   "cell_type": "code",
   "execution_count": 186,
   "outputs": [
    {
     "name": "stderr",
     "output_type": "stream",
     "text": [
      "/home/tedwu/anaconda3/envs/ML_Finance/lib/python3.9/site-packages/pypfopt/efficient_frontier/efficient_frontier.py:441: UserWarning: The risk_free_rate provided to portfolio_performance is different to the one used by max_sharpe. Using the previous value.\n",
      "  warnings.warn(\n"
     ]
    },
    {
     "data": {
      "text/plain": "0.00026267456802275054"
     },
     "execution_count": 186,
     "metadata": {},
     "output_type": "execute_result"
    }
   ],
   "source": [
    "expected_return, volatility, sharpe_ratio = ef.portfolio_performance(verbose=False)\n",
    "sharpe_ratio"
   ],
   "metadata": {
    "collapsed": false,
    "ExecuteTime": {
     "start_time": "2023-07-02T22:18:25.283207Z",
     "end_time": "2023-07-02T22:18:25.284210Z"
    }
   }
  },
  {
   "cell_type": "code",
   "execution_count": 187,
   "outputs": [
    {
     "data": {
      "text/plain": "<Figure size 1000x1000 with 1 Axes>",
      "image/png": "[encoded data removed]"
     },
     "metadata": {},
     "output_type": "display_data"
    }
   ],
   "source": [
    "pd.Series(weights).plot.pie(figsize=(10,10));"
   ],
   "metadata": {
    "collapsed": false,
    "ExecuteTime": {
     "start_time": "2023-07-02T22:18:25.283207Z",
     "end_time": "2023-07-02T22:18:25.651295Z"
    }
   }
  },
  {
   "cell_type": "code",
   "execution_count": 188,
   "outputs": [
    {
     "name": "stdout",
     "output_type": "stream",
     "text": [
      "Leftover: $6.93\n"
     ]
    },
    {
     "name": "stderr",
     "output_type": "stream",
     "text": [
      "/home/tedwu/anaconda3/envs/ML_Finance/lib/python3.9/site-packages/cvxpy/problems/problem.py:1385: UserWarning: Solution may be inaccurate. Try another solver, adjusting the solver settings, or solve with verbose=True for more information.\n",
      "  warnings.warn(\n"
     ]
    },
    {
     "data": {
      "text/plain": "{'PFE': 10,\n 'COST': 15,\n 'AMZN': 37,\n 'GOOGL': 7,\n 'MRK': 4,\n 'TSLA': 13,\n 'LMT': 17,\n 'BSX': 6,\n 'HSBC': 101,\n 'MSFT': 4,\n 'SEDG': 7,\n 'CVX': 35,\n 'MCD': 6,\n 'AAPL': 5,\n 'GS': 55,\n 'CI': 7,\n 'NVDA': 15}"
     },
     "execution_count": 188,
     "metadata": {},
     "output_type": "execute_result"
    }
   ],
   "source": [
    "from pypfopt import DiscreteAllocation\n",
    "\n",
    "da = DiscreteAllocation(weights, stock_prices.iloc[-1], total_portfolio_value=20000)\n",
    "alloc, leftover = da.lp_portfolio()\n",
    "print(f\"Leftover: ${leftover:.2f}\")\n",
    "alloc"
   ],
   "metadata": {
    "collapsed": false,
    "ExecuteTime": {
     "start_time": "2023-07-02T22:18:25.652295Z",
     "end_time": "2023-07-02T22:18:26.154131Z"
    }
   }
  },
  {
   "cell_type": "code",
   "execution_count": 188,
   "outputs": [],
   "source": [],
   "metadata": {
    "collapsed": false,
    "ExecuteTime": {
     "start_time": "2023-07-02T22:18:26.154131Z",
     "end_time": "2023-07-02T22:18:26.155123Z"
    }
   }
  }
 ],
 "metadata": {
  "kernelspec": {
   "display_name": "Python 3",
   "language": "python",
   "name": "python3"
  },
  "language_info": {
   "codemirror_mode": {
    "name": "ipython",
    "version": 2
   },
   "file_extension": ".py",
   "mimetype": "text/x-python",
   "name": "python",
   "nbconvert_exporter": "python",
   "pygments_lexer": "ipython2",
   "version": "2.7.6"
  }
 },
 "nbformat": 4,
 "nbformat_minor": 0
}
